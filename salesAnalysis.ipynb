{
 "cells": [
  {
   "cell_type": "markdown",
   "metadata": {},
   "source": [
    "CodeClause : Data Science\n",
    "Name : Riham Essam\n",
    "Project Name : Sales Analysis "
   ]
  },
  {
   "cell_type": "code",
   "execution_count": null,
   "metadata": {
    "id": "BZOucw7Il5UZ"
   },
   "outputs": [],
   "source": [
    "#importing libraries\n",
    "import pandas as pd\n",
    "import numpy as np\n",
    "import matplotlib.pyplot as plt\n",
    "import seaborn as sns\n",
    "import sklearn\n",
    "from sklearn.preprocessing import MinMaxScaler\n",
    "from sklearn.preprocessing import LabelEncoder\n",
    "from scipy.stats import norm\n",
    "import warnings \n",
    "from sklearn.cluster import KMeans\n",
    "from sklearn.neighbors import NearestNeighbors\n",
    "import scipy.cluster.hierarchy as shc\n",
    "from scipy.cluster.hierarchy import dendrogram,linkage\n",
    "warnings.filterwarnings('ignore')"
   ]
  },
  {
   "cell_type": "code",
   "execution_count": null,
   "metadata": {
    "colab": {
     "base_uri": "https://localhost:8080/",
     "height": 392
    },
    "id": "uZPHI_HZq1En",
    "outputId": "0a862a16-9884-439e-98f5-809a1ff006df"
   },
   "outputs": [],
   "source": [
    "#Reading dataset\n",
    "SA = pd.read_csv(\"SalesAnalysis.csv\")\n",
    "SA.head()"
   ]
  },
  {
   "cell_type": "code",
   "execution_count": null,
   "metadata": {
    "colab": {
     "base_uri": "https://localhost:8080/"
    },
    "id": "vEUOegvkuISj",
    "outputId": "25a29650-e60c-47ee-f382-fae1fe9915cf"
   },
   "outputs": [],
   "source": [
    "SA.columns"
   ]
  },
  {
   "cell_type": "code",
   "execution_count": null,
   "metadata": {
    "colab": {
     "base_uri": "https://localhost:8080/"
    },
    "id": "7d7WLApfJ4xS",
    "outputId": "48b5b47f-2667-47cf-d572-9e79849aa87a"
   },
   "outputs": [],
   "source": [
    "SA.dtypes"
   ]
  },
  {
   "cell_type": "code",
   "execution_count": null,
   "metadata": {
    "colab": {
     "base_uri": "https://localhost:8080/",
     "height": 374
    },
    "id": "5PPwumUuT5SX",
    "outputId": "842f47de-d997-43bf-eac8-fbf8e74b36cd"
   },
   "outputs": [],
   "source": [
    "#Drop col that is not important\n",
    "SA = SA.drop(['Invoice ID','Time','gross margin percentage'],axis = 1)\n",
    "SA.head()"
   ]
  },
  {
   "cell_type": "code",
   "execution_count": null,
   "metadata": {
    "colab": {
     "base_uri": "https://localhost:8080/"
    },
    "id": "sVSFATaBUk2B",
    "outputId": "d786e105-c9b8-4f58-f16a-618e3281e341"
   },
   "outputs": [],
   "source": [
    "SA.isnull().sum() # To check null values"
   ]
  },
  {
   "cell_type": "code",
   "execution_count": null,
   "metadata": {
    "id": "sVpMTyaN6Uec"
   },
   "outputs": [],
   "source": [
    "SA.duplicated().sum()"
   ]
  },
  {
   "cell_type": "code",
   "execution_count": null,
   "metadata": {
    "colab": {
     "base_uri": "https://localhost:8080/"
    },
    "id": "EMUWzMOUuNOi",
    "outputId": "8e547379-2333-42d6-816a-e00407f85f11"
   },
   "outputs": [],
   "source": [
    "SA.info()"
   ]
  },
  {
   "cell_type": "code",
   "execution_count": null,
   "metadata": {
    "colab": {
     "base_uri": "https://localhost:8080/",
     "height": 269
    },
    "id": "kbU2mblYuR1t",
    "outputId": "3defe5e5-5afe-4cb8-958d-2aa5883cf4ea"
   },
   "outputs": [],
   "source": [
    "SA.corr()"
   ]
  },
  {
   "cell_type": "code",
   "execution_count": null,
   "metadata": {
    "colab": {
     "base_uri": "https://localhost:8080/",
     "height": 300
    },
    "id": "26gnSZVxuWhQ",
    "outputId": "0bfa0bf6-38b9-46d5-83cf-6d76774c7572"
   },
   "outputs": [],
   "source": [
    "SA.describe()"
   ]
  },
  {
   "cell_type": "code",
   "execution_count": null,
   "metadata": {
    "colab": {
     "base_uri": "https://localhost:8080/"
    },
    "id": "0gtJJPCcuhyI",
    "outputId": "e19c8fef-1ab7-45d0-cba0-d354c52530b5"
   },
   "outputs": [],
   "source": [
    "SA.shape"
   ]
  },
  {
   "cell_type": "code",
   "execution_count": null,
   "metadata": {
    "colab": {
     "base_uri": "https://localhost:8080/",
     "height": 374
    },
    "id": "1lZXI4XhZgyU",
    "outputId": "2e41c22a-86b8-46a7-ddaa-ffc4ae0d8b2f"
   },
   "outputs": [],
   "source": [
    "#feature scalling to normalize data in range 0:1\n",
    "stand=MinMaxScaler()\n",
    "colList = ['Quantity','Tax 5%','Unit price','Total','gross income']\n",
    "for colName in SA.columns:\n",
    "  for itr in range(len(colList)):\n",
    "    if colName == colList[itr]:\n",
    "      SA[[colName]]=stand.fit_transform(SA[[colName]])\n",
    "\n",
    "SA.head()"
   ]
  },
  {
   "cell_type": "markdown",
   "metadata": {
    "id": "u3paOMJXq6SV"
   },
   "source": [
    "Visualization"
   ]
  },
  {
   "cell_type": "code",
   "execution_count": null,
   "metadata": {
    "colab": {
     "base_uri": "https://localhost:8080/",
     "height": 734
    },
    "id": "ejCad01Eq66w",
    "outputId": "cf05469d-54f9-4bd3-a84b-4c50e4eb5b47"
   },
   "outputs": [],
   "source": [
    "#representing correlation between features\n",
    "plt.figure(figsize=(12,12))\n",
    "hm = sns.heatmap(SA.corr(), annot = True,cmap=\"YlGnBu\")\n",
    "hm.set(title = \"Correlation matrix of supermarket sales data\\n\")\n",
    "\n",
    "plt.show()"
   ]
  },
  {
   "cell_type": "code",
   "execution_count": null,
   "metadata": {
    "colab": {
     "base_uri": "https://localhost:8080/",
     "height": 269
    },
    "id": "DwzTrnyvq7U-",
    "outputId": "0987ccb6-7f6e-43c0-d4c6-d02aa110ca80"
   },
   "outputs": [],
   "source": [
    "#correlation between features \n",
    "corr = SA.corr()\n",
    "corr.style.background_gradient(cmap='coolwarm')\n",
    "\n",
    "#The best corr is Tax 5% , Gross Income and cogs('Cost of Goods Sale') of corr 1\n",
    "#Tax 5% , Gross Income and cogs have a good corr of 0.71 with Quantity"
   ]
  },
  {
   "cell_type": "code",
   "execution_count": null,
   "metadata": {
    "colab": {
     "base_uri": "https://localhost:8080/",
     "height": 366
    },
    "id": "NaDcEWueq84K",
    "outputId": "43d4c261-ea7b-4e79-ec30-745904660d05"
   },
   "outputs": [],
   "source": [
    "plt.figure(figsize=(18,6),dpi=100)\n",
    "sns.set(style = 'whitegrid')\n",
    "sns.regplot(x='Quantity',y='cogs',data=SA,color='blue')\n",
    "plt.xlabel('Quantity')\n",
    "plt.ylabel('Cost of Goods Sale')\n",
    "plt.title('Quantity v Cost of Goods Sale',fontsize=18)\n",
    "plt.show()"
   ]
  },
  {
   "cell_type": "code",
   "execution_count": null,
   "metadata": {
    "colab": {
     "base_uri": "https://localhost:8080/",
     "height": 370
    },
    "id": "Oqrfk260rpNc",
    "outputId": "5598534f-129b-4c20-db53-ea2ed4696830"
   },
   "outputs": [],
   "source": [
    "plt.figure(figsize=(18,6),dpi=100)\n",
    "sns.regplot(x=\"Unit price\", y=\"gross income\", data=SA,\n",
    "                 scatter_kws={\"color\": \"black\"}, line_kws={\"color\": \"red\"})\n",
    "plt.xlabel('Unit Price')\n",
    "plt.ylabel('Gross Income')\n",
    "plt.title('Unit Price vs Gross Income',fontsize=18)\n",
    "plt.show()"
   ]
  },
  {
   "cell_type": "code",
   "execution_count": null,
   "metadata": {
    "colab": {
     "base_uri": "https://localhost:8080/",
     "height": 248
    },
    "id": "xm-2lbN2q9NZ",
    "outputId": "4406ba92-dd67-4ed6-8711-3c0df3af54f4"
   },
   "outputs": [],
   "source": [
    "#pie chart to represent percentage of gender  who bought goods\n",
    "def pie_chart(dataframe):\n",
    "    \n",
    "    labels = dataframe.index.values\n",
    "    sizes = dataframe['Gender'].values\n",
    "        \n",
    "    fig1, ax1 = plt.subplots()\n",
    "    ax1.pie(sizes, labels=labels, autopct='%1.1f%%', shadow=True, startangle=90)\n",
    "    ax1.axis('equal')  # Equal aspect ratio ensures that pie is drawn as a circle.\n",
    "    plt.show()\n",
    "\n",
    "df_city_count = pd.DataFrame(SA.Gender.value_counts())\n",
    "pie_chart(df_city_count)"
   ]
  },
  {
   "cell_type": "code",
   "execution_count": null,
   "metadata": {
    "colab": {
     "base_uri": "https://localhost:8080/",
     "height": 301
    },
    "id": "m0Ki14KywMzG",
    "outputId": "0b8d4492-1f54-4a7a-c229-3e63f935a261"
   },
   "outputs": [],
   "source": [
    "#Payment method count\n",
    "sns.countplot(SA['Payment'])\n",
    "plt.xlabel('Payment Method')\n",
    "plt.ylabel('Count')\n",
    "plt.title('Which Payment Method is most used?')\n",
    "\n",
    "plt.show()"
   ]
  },
  {
   "cell_type": "code",
   "execution_count": null,
   "metadata": {
    "colab": {
     "base_uri": "https://localhost:8080/",
     "height": 301
    },
    "id": "ilNtD13uumjq",
    "outputId": "a2f24397-8515-410a-93f8-3ad0b05c7d39"
   },
   "outputs": [],
   "source": [
    "# Branch Count\n",
    "sns.countplot(SA['Branch'])\n",
    "plt.xlabel('Branch')\n",
    "plt.ylabel('Count')\n",
    "plt.title('Which Branch is the most busy?')\n",
    "\n",
    "plt.show()"
   ]
  },
  {
   "cell_type": "code",
   "execution_count": null,
   "metadata": {
    "colab": {
     "base_uri": "https://localhost:8080/",
     "height": 388
    },
    "id": "flaTr0dTq9eP",
    "outputId": "9348bc37-27ef-4e33-ba6a-e641da254305"
   },
   "outputs": [],
   "source": [
    "#City Count\n",
    "sns.countplot(SA['City'])\n",
    "plt.xlabel('City')\n",
    "plt.ylabel('Count')\n",
    "plt.title('Which City is most busy?')\n",
    "Yangon,Mandalay,Naypyitow = SA.City.value_counts()\n",
    "\n",
    "print('Yangon =',Yangon)\n",
    "print('Mandalay =',Mandalay)\n",
    "print('Naypyitow =',Naypyitow)\n",
    "print('\\n')\n",
    "\n",
    "plt.show()"
   ]
  },
  {
   "cell_type": "code",
   "execution_count": null,
   "metadata": {
    "colab": {
     "base_uri": "https://localhost:8080/",
     "height": 390
    },
    "id": "Bb0ytAN8q9sc",
    "outputId": "83d5d578-7962-4f26-b779-455fc081f11c"
   },
   "outputs": [],
   "source": [
    "# The distribution of different ratings\n",
    "plt.figure(dpi=100) \n",
    "rating = SA['Rating']\n",
    "sns.distplot(rating, fit = norm ,kde=False)\n",
    "plt.show()"
   ]
  },
  {
   "cell_type": "code",
   "execution_count": null,
   "metadata": {
    "colab": {
     "base_uri": "https://localhost:8080/",
     "height": 478
    },
    "id": "hXT1rr2yq96i",
    "outputId": "592e1c31-28dd-4af0-f6e2-781143edd320"
   },
   "outputs": [],
   "source": [
    "#Product Line Count\n",
    "plt.figure(dpi=120)\n",
    "sns.countplot(SA['Product line'])\n",
    "plt.xlabel('Product line')\n",
    "plt.ylabel('Count')\n",
    "plt.xticks(fontsize=5)\n",
    "plt.title('Which Product line has the most sales?')\n",
    "\n",
    "\n",
    "plt.show()"
   ]
  },
  {
   "cell_type": "code",
   "execution_count": null,
   "metadata": {
    "colab": {
     "base_uri": "https://localhost:8080/",
     "height": 481
    },
    "id": "pd65DAw4q-I1",
    "outputId": "2ebc42e6-1a6a-4fde-b8f0-d91212feede5"
   },
   "outputs": [],
   "source": [
    "plt.figure(dpi=125)\n",
    "sns.countplot(y ='Product line', hue = \"City\", data = SA) \n",
    "plt.xlabel('Count')\n",
    "plt.ylabel('Product Line')\n",
    "plt.show()"
   ]
  },
  {
   "cell_type": "code",
   "execution_count": null,
   "metadata": {
    "colab": {
     "base_uri": "https://localhost:8080/",
     "height": 481
    },
    "id": "8TQS1fHS0lz7",
    "outputId": "922875a6-dbe0-4446-ff01-8f4eb7f84214"
   },
   "outputs": [],
   "source": [
    "plt.figure(dpi=125)\n",
    "sns.countplot(y ='Product line', hue = \"Gender\", data = SA) \n",
    "plt.xlabel('Count')\n",
    "plt.ylabel('Product Line')\n",
    "plt.show()\n",
    "\n",
    "#Conc: Males are more than Female in Health and beauty, Electronic accessories, Home and \n",
    "#While females are more than males in rest of product lines"
   ]
  },
  {
   "cell_type": "code",
   "execution_count": null,
   "metadata": {
    "colab": {
     "base_uri": "https://localhost:8080/",
     "height": 719
    },
    "id": "JoVLNbwQ1Xsn",
    "outputId": "0e7d0461-339f-4a07-a3dc-c197049b1dfb"
   },
   "outputs": [],
   "source": [
    "#Histogram of all data except date\n",
    "SalesAnalysis = SA.iloc[:,SA.columns != 'Date']\n",
    "SalesAnalysis.hist(figsize=(12,12))\n",
    "plt.show()"
   ]
  },
  {
   "cell_type": "code",
   "execution_count": null,
   "metadata": {},
   "outputs": [],
   "source": [
    "plt.figure(dpi=125)\n",
    "sns.countplot(y ='Product line', hue = \"Branch\", data = SA) \n",
    "plt.xlabel('Count')\n",
    "plt.ylabel('Product Line')\n",
    "plt.show()\n",
    "\n",
    "#conc: Branch A is the best in Home and lifestyle\n",
    "# Branch B is the best in Sports and travel\n",
    "# Branch C is the best in Food and beverages"
   ]
  },
  {
   "cell_type": "code",
   "execution_count": null,
   "metadata": {
    "colab": {
     "base_uri": "https://localhost:8080/",
     "height": 367
    },
    "id": "5C4rG-a_2VxO",
    "outputId": "39103c23-564f-42e9-ceea-726e96e13de3"
   },
   "outputs": [],
   "source": [
    "plt.figure(figsize=(18,6))\n",
    "sns.distplot(SA['Quantity'])"
   ]
  },
  {
   "cell_type": "code",
   "execution_count": null,
   "metadata": {
    "colab": {
     "base_uri": "https://localhost:8080/",
     "height": 914
    },
    "id": "fs0IOZfS_2VF",
    "outputId": "31602740-f8ee-4c6e-88bf-474c2445cd83"
   },
   "outputs": [],
   "source": [
    "sns.pairplot(SA,hue=\"Branch\")\n",
    "plt.show()"
   ]
  },
  {
   "cell_type": "code",
   "execution_count": null,
   "metadata": {
    "colab": {
     "base_uri": "https://localhost:8080/",
     "height": 302
    },
    "id": "NN8SOyISAxlU",
    "outputId": "9740f698-40d6-4908-e4c4-e59adf7c08c5"
   },
   "outputs": [],
   "source": [
    "cash = SA[SA.Payment == \"Cash\"]\n",
    "sns.countplot(x = \"Gender\", hue = \"Branch\", data = cash)"
   ]
  },
  {
   "cell_type": "code",
   "execution_count": null,
   "metadata": {
    "colab": {
     "base_uri": "https://localhost:8080/",
     "height": 302
    },
    "id": "FZteFtLwBTxj",
    "outputId": "4e49d27b-96e7-41a6-c6db-9c9ad63b5046",
    "scrolled": true
   },
   "outputs": [],
   "source": [
    "cash = SA[SA.Payment == \"Cash\"]\n",
    "sns.countplot(x = \"Gender\", hue = \"Product line\", data = cash)"
   ]
  },
  {
   "cell_type": "markdown",
   "metadata": {},
   "source": [
    "LabelEncoding"
   ]
  },
  {
   "cell_type": "code",
   "execution_count": null,
   "metadata": {},
   "outputs": [],
   "source": [
    "#Creating an instance of labelEncoder\n",
    "labelEncoder = LabelEncoder()\n",
    "#Transforming categorical data into numbers\n",
    "SA[\"Gender\"] = labelEncoder.fit_transform(SA[\"Gender\"]) #Female = 0 & Male = 1\n",
    "SA[\"Branch\"] = labelEncoder.fit_transform(SA[\"Branch\"]) #A = 0 , B = 1 , C = 2\n",
    "SA[\"City\"] = labelEncoder.fit_transform(SA[\"City\"]) #Mandalay = 0 , Naypyitaw = 1 , Yangon = 2\n",
    "#Electronic accessories = 0 , Fashion accessories = 1 , Food and beverages = 2 \n",
    "#Health and beauty = 3 , Home and lifestyle = 4 , Sports and travel = 5\n",
    "SA[\"Product line\"] = labelEncoder.fit_transform(SA[\"Product line\"]) \n",
    "SA[\"Payment\"] = labelEncoder.fit_transform(SA[\"Payment\"]) #Cash = 0 , Credit card = 1 , Ewallet = 2\n",
    "SA[\"Customer type\"] = labelEncoder.fit_transform(SA[\"Customer type\"]) #Member = 0 , Normal = 1\n",
    "#SA.head(15)"
   ]
  },
  {
   "cell_type": "code",
   "execution_count": null,
   "metadata": {},
   "outputs": [],
   "source": [
    "SalesAnalysis = SA.iloc[:,SA.columns != 'Date'] #SalesAnalysis to use models on it"
   ]
  },
  {
   "cell_type": "markdown",
   "metadata": {},
   "source": [
    "Models"
   ]
  },
  {
   "cell_type": "code",
   "execution_count": null,
   "metadata": {},
   "outputs": [],
   "source": [
    "#Kmeans algo\n",
    "kmeans = KMeans(n_clusters=4).fit_predict(SalesAnalysis)\n",
    "#print(\"Labels: \",kmeans)\n",
    "SalesAnalysis = np.array(SalesAnalysis)\n",
    "labels = np.unique(kmeans)\n",
    "for i in labels: #iterates to filter the data according to each unique class one iteration at a time \n",
    "#(filters and keeps the data points that belong to clutser label i)\n",
    "    plt.scatter(SalesAnalysis[kmeans == i,0],SalesAnalysis[kmeans == i,1],label = i)\n",
    "plt.title(\"kmeans diagram\")\n",
    "plt.show()"
   ]
  },
  {
   "cell_type": "code",
   "execution_count": null,
   "metadata": {},
   "outputs": [],
   "source": [
    "#Nearest Neighbours Algo\n",
    "neighb = NearestNeighbors(n_neighbors=3) \n",
    "nbrs=neighb.fit(SalesAnalysis) \n",
    "distances,indices=nbrs.kneighbors(SalesAnalysis) # finding the nearest neighbours\n",
    "# Sort and plot the distances results\n",
    "distances = np.sort(distances, axis = 0)\n",
    "distances = distances[:, 1] # taking the second column of the sorted distances\n",
    "plt.rcParams['figure.figsize'] = (5,3) \n",
    "plt.plot(distances) \n",
    "plt.show() "
   ]
  },
  {
   "cell_type": "code",
   "execution_count": null,
   "metadata": {},
   "outputs": [],
   "source": [
    "#Agglomertaive Algo\n",
    "plt.figure(figsize=(16,7))\n",
    "plt.title(\"SalesAnalysist Clusters\")\n",
    "cd = dendrogram(linkage(SalesAnalysis, method='ward'))"
   ]
  },
  {
   "cell_type": "code",
   "execution_count": null,
   "metadata": {},
   "outputs": [],
   "source": []
  }
 ],
 "metadata": {
  "colab": {
   "collapsed_sections": [],
   "provenance": []
  },
  "kernelspec": {
   "display_name": "Python 3 (ipykernel)",
   "language": "python",
   "name": "python3"
  },
  "language_info": {
   "codemirror_mode": {
    "name": "ipython",
    "version": 3
   },
   "file_extension": ".py",
   "mimetype": "text/x-python",
   "name": "python",
   "nbconvert_exporter": "python",
   "pygments_lexer": "ipython3",
   "version": "3.9.12"
  }
 },
 "nbformat": 4,
 "nbformat_minor": 1
}
